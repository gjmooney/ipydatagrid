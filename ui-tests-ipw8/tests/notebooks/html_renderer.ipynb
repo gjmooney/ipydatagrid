{
 "cells": [
  {
   "cell_type": "code",
   "execution_count": null,
   "metadata": {},
   "outputs": [],
   "source": [
    "import json\n",
    "\n",
    "import numpy as np\n",
    "import pandas as pd\n",
    "from bqplot import  ColorScale\n",
    "\n",
    "from ipydatagrid import Expr, DataGrid, TextRenderer, BarRenderer, HtmlRenderer\n",
    "\n",
    "n = 5\n",
    "\n",
    "df = pd.DataFrame(\n",
    "    {\n",
    "        \"Value 1\": np.random.randn(n),\n",
    "        \"Value 2\": '<ol><li>Item 1</li><li>Item 2</li><li>Item 3</li></ol>',\n",
    "        \"Value 3\": '<p><strong style=\"color: olive\">Bold Text</strong></p><p><em style=\"background-color: yellow\">Italic Text</em></p><p><u>Underlined Text</u></p><p><s>Strikethrough Text</s></p>'\n",
    "    }\n",
    ")\n",
    "\n",
    "text_renderer = TextRenderer(\n",
    "    text_color=\"black\", background_color=ColorScale(min=-5, max=5)\n",
    ")\n",
    "\n",
    "html_renderer = HtmlRenderer(text_color='blue', background_color='aliceblue', horizontal_alignment='right', vertical_alignment='bottom')\n",
    "\n",
    "renderers = {\n",
    "    \"Value 1\": text_renderer,\n",
    "    \"Value 2\": html_renderer,\n",
    "    \"Value 3\": html_renderer,\n",
    "   \n",
    "}\n",
    "\n",
    "DataGrid(df, renderers=renderers,base_row_size=140, base_column_size=100)"
   ]
  }
 ],
 "metadata": {
  "language_info": {
   "name": "python"
  }
 },
 "nbformat": 4,
 "nbformat_minor": 2
}
