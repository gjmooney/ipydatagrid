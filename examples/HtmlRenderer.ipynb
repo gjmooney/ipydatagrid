{
 "cells": [
  {
   "cell_type": "code",
   "execution_count": 1,
   "id": "f2b527c8-901e-488f-b08e-ae3daa4cf4a1",
   "metadata": {},
   "outputs": [],
   "source": [
    "import json\n",
    "\n",
    "import numpy as np\n",
    "import pandas as pd\n",
    "from bqplot import  ColorScale\n",
    "\n",
    "from ipydatagrid import Expr, DataGrid, TextRenderer, BarRenderer, HtmlRenderer"
   ]
  },
  {
   "cell_type": "code",
   "execution_count": 2,
   "id": "3d2537f5-ae31-4ccb-bc74-700b08f85bcc",
   "metadata": {},
   "outputs": [],
   "source": [
    "n = 10\n",
    "\n",
    "df = pd.DataFrame(\n",
    "    {\n",
    "        \"Value 1\": np.random.randn(n),\n",
    "        \"Value 2\": '<ol><li>Item 1</li><li>Item 2</li><li>Item 3</li></ol>',\n",
    "        \"Value 3\": '<p><strong style=\"color: olive\">Bold Text</strong></p><p><em style=\"background-color: yellow\">Italic Text</em></p><p><u>Underlined Text</u></p><p><s>Strikethrough Text</s></p>'\n",
    "    }\n",
    ")"
   ]
  },
  {
   "cell_type": "code",
   "execution_count": 3,
   "id": "e6ec592c-5811-487c-bd8a-b2a3b14e892e",
   "metadata": {},
   "outputs": [],
   "source": [
    "text_renderer = TextRenderer(\n",
    "    text_color=\"black\", background_color=ColorScale(min=-5, max=5)\n",
    ")\n",
    "\n",
    "html_renderer = HtmlRenderer(text_color='blue', background_color='aliceblue', horizontal_alignment='right', vertical_alignment='bottom')\n",
    "\n",
    "renderers = {\n",
    "    \"Value 1\": text_renderer,\n",
    "    \"Value 2\": html_renderer,\n",
    "    \"Value 3\": html_renderer,\n",
    "   \n",
    "}"
   ]
  },
  {
   "cell_type": "code",
   "execution_count": 4,
   "id": "9113bdb2-92a4-46ec-bcf0-ad350616fcea",
   "metadata": {},
   "outputs": [],
   "source": [
    "grid = DataGrid(df, renderers=renderers,base_row_size=140, base_column_size=100)"
   ]
  },
  {
   "cell_type": "code",
   "execution_count": 5,
   "id": "596bd597-2bb5-4e02-b1b3-c39439f7c557",
   "metadata": {},
   "outputs": [
    {
     "data": {
      "application/vnd.jupyter.widget-view+json": {
       "model_id": "20641c795f104fa1914fe73b74679ba6",
       "version_major": 2,
       "version_minor": 0
      },
      "text/plain": [
       "DataGrid(auto_fit_params={'area': 'all', 'padding': 30, 'numCols': None}, base_column_size=100, base_row_size=…"
      ]
     },
     "execution_count": 5,
     "metadata": {},
     "output_type": "execute_result"
    }
   ],
   "source": [
    "grid"
   ]
  },
  {
   "cell_type": "code",
   "execution_count": null,
   "id": "597db616-4933-411a-9fd7-95c5e8056772",
   "metadata": {},
   "outputs": [],
   "source": []
  },
  {
   "cell_type": "code",
   "execution_count": null,
   "id": "01fe3d57-1cbf-487f-a17d-75a721d1d24e",
   "metadata": {},
   "outputs": [],
   "source": []
  }
 ],
 "metadata": {
  "kernelspec": {
   "display_name": "Python 3 (ipykernel)",
   "language": "python",
   "name": "python3"
  },
  "language_info": {
   "codemirror_mode": {
    "name": "ipython",
    "version": 3
   },
   "file_extension": ".py",
   "mimetype": "text/x-python",
   "name": "python",
   "nbconvert_exporter": "python",
   "pygments_lexer": "ipython3",
   "version": "3.12.2"
  }
 },
 "nbformat": 4,
 "nbformat_minor": 5
}
